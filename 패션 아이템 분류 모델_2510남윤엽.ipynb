{
  "nbformat": 4,
  "nbformat_minor": 0,
  "metadata": {
    "colab": {
      "name": "패션 아이템 분류 모델_2510남윤엽.ipynb",
      "provenance": []
    },
    "kernelspec": {
      "name": "python3",
      "display_name": "Python 3"
    }
  },
  "cells": [
    {
      "cell_type": "code",
      "metadata": {
        "id": "IQ-pjsICR_N5",
        "outputId": "94300e58-e2c0-4209-d33a-c8ea3be63204",
        "colab": {
          "base_uri": "https://localhost:8080/"
        }
      },
      "source": [
        "import tensorflow as tf\n",
        "(x_train, y_train), (x_test, y_test) = tf.keras.datasets.fashion_mnist.load_data()\n",
        "print(x_train.shape)\n",
        "print(y_train.shape)\n",
        "print(x_test.shape)\n",
        "print(y_test.shape)\n",
        "print(y_train[777])\n",
        "for i in x_train[777] :\n",
        "    for j in i :\n",
        "      print('%3d' %j, end='')\n",
        "    print()\n",
        "s=0\n",
        "for i in range(60000) :\n",
        "  if y_train[i]==5 or y_train[i]==9 or y_train[i]==7  :\n",
        "    s+=1\n",
        "print(s)\n",
        "#데이터셋 준비 : shoes 18000개"
      ],
      "execution_count": 16,
      "outputs": [
        {
          "output_type": "stream",
          "text": [
            "(60000, 28, 28)\n",
            "(60000,)\n",
            "(10000, 28, 28)\n",
            "(10000,)\n",
            "5\n",
            "  0  0  0  0  0  0  0  0  0  0  0  0  0  0  0  0  0  0  0  0  0  0  0  0  0  0  0  0\n",
            "  0  0  0  0  0  0  0  0  0  0  0  0  0  0  0  0  0  0  0  0  0  0  0  0  0  0  0  0\n",
            "  0  0  0  0  0  0  0  0  0  0  0  0  0  0  0  0  0  0  0  0  0  0  0  0  0  0  0  0\n",
            "  0  0  0  0  0  0  0  0  0  0  0  0  0  0  0  0  0  0  0  0  0  0  0  0  0  0  0  0\n",
            "  0  0  0  0  0  0  0  0  0  0  0  0  0  0  0  1  0  0201215165 96 71 15  0  0  0  0\n",
            "  0  0  0  0  0  0  0  0  0  0  0  0  0  0  0  0  0188255250218189255238  0  0  0  0\n",
            "  0  0  0  0  0  0  0  0  0  0  0  0  0  0  1  0165255206225217193213239177  0  0  3\n",
            "  0  0  0  0  0  0  0  0  0  0  0  0  0  4  0 74230229233231233242227227255138  0  0\n",
            "  0  0  0  0  0  0  0  0  0  0  0  0  0  7  0 87226206230224234224246240  0 94177  0\n",
            "  0  0  0  0  0  0  0  0  0  0  0  0  0  6  0 29230227255255227223255 36  0  0 86  9\n",
            "  0  0  0  0  0  0  0  0  0  0  0  0  0  2  0 14126106165189230228255197  0  0  0  0\n",
            "  0  0  0  0  0  0  0  0  0  0  0  0  0  0  0  0  0  0  0 92255255 24175 89  0  4  0\n",
            "  0  0  0  0  0  0  0  0  0  0  0  0  0  0  2  1  0  0189255155  0  9238255  0  0  2\n",
            "  0  0  0  0  0  0  0  0  0  0  0  0  0  0  0  0  0226205  0  0 80249220112  0  2  0\n",
            "  0  0  0  0  0  0  0  0  0  0  0  0  0  0  1  0  4255  0  0 57235220 33  0  0  5  0\n",
            "  0  0  0  0  2  7  4  1  0  0  0  0  0  0  4  0127255  0  0226248141  0  0  0  0  0\n",
            "  0  0  0  0  0  0  0  0  2  0  0  0  0  0  0  0209187  0 76250230  0  0  0  2  6  1\n",
            "  0  0  1  0  0 93144  0  0  1  0  0  1  0  0236255  0  0202255  0  0  0  0  0  0  0\n",
            "  1  1  3  0 31220232 58  0  0  0  0  0  0  0231 53  0  0255153  0  6 14 29 47 59 33\n",
            "  0  0  0  0  0190218192  0  0  0  0  0  0 95243170218233209211235233243212212220165\n",
            "  0  0  0  0  0177234169  8 73113172224238202125 67 34  0101203200202187206185191157\n",
            " 78213198204197192215175207206183116 52  6  0  0  0  0  0118233211220218227212217198\n",
            "  0 17 29 36 40 15  0  0  0  0  0  0  0  0  0  4  2  3  0 14 49 33 38 38 40 38 43 20\n",
            "  0  0  0  0  0  0  0  0  0  0  0  2  3  4  0  0  0  0  0  0  0  0  0  0  0  0  0  0\n",
            "  0  0  0  0  0  0  0  0  0  0  0  0  0  0  0  0  0  0  0  0  0  0  0  0  0  0  0  0\n",
            "  0  0  0  0  0  0  0  0  0  0  0  0  0  0  0  0  0  0  0  0  0  0  0  0  0  0  0  0\n",
            "  0  0  0  0  0  0  0  0  0  0  0  0  0  0  0  0  0  0  0  0  0  0  0  0  0  0  0  0\n",
            "  0  0  0  0  0  0  0  0  0  0  0  0  0  0  0  0  0  0  0  0  0  0  0  0  0  0  0  0\n",
            "18000\n"
          ],
          "name": "stdout"
        }
      ]
    },
    {
      "cell_type": "code",
      "metadata": {
        "id": "nSaaFdPGS3rI",
        "outputId": "ff2a9579-2ce9-4003-8a1c-daf04eda0d6e",
        "colab": {
          "base_uri": "https://localhost:8080/"
        }
      },
      "source": [
        "print(len(x_train))\n",
        "print(len(x_train[777]))\n",
        "print(len(x_train[777][0]))\n",
        "print(len(x_train[777][1]))"
      ],
      "execution_count": 17,
      "outputs": [
        {
          "output_type": "stream",
          "text": [
            "60000\n",
            "28\n",
            "28\n",
            "28\n"
          ],
          "name": "stdout"
        }
      ]
    },
    {
      "cell_type": "code",
      "metadata": {
        "id": "yLl18oLzVlQk",
        "outputId": "6b69298f-f230-4170-ba78-5451150bf946",
        "colab": {
          "base_uri": "https://localhost:8080/"
        }
      },
      "source": [
        "x_train=x_train.reshape(60000,784)\n",
        "x_test=x_test.reshape(10000,784)\n",
        "print(x_train.shape)\n",
        "print(y_train.shape)\n",
        "print(x_test.shape)\n",
        "print(y_test.shape)\n",
        "print(len(x_train))\n",
        "print(len(x_train[777]))"
      ],
      "execution_count": 18,
      "outputs": [
        {
          "output_type": "stream",
          "text": [
            "(60000, 784)\n",
            "(60000,)\n",
            "(10000, 784)\n",
            "(10000,)\n",
            "60000\n",
            "784\n"
          ],
          "name": "stdout"
        }
      ]
    },
    {
      "cell_type": "code",
      "metadata": {
        "id": "zmLFcD3iWZE8",
        "outputId": "6d49f805-0bbb-4f29-fb36-3138f090ae30",
        "colab": {
          "base_uri": "https://localhost:8080/"
        }
      },
      "source": [
        "from tensorflow.keras import Sequential\n",
        "from tensorflow.keras.layers import Dense\n",
        "model = Sequential()\n",
        "model.add(Dense(100, input_shape=(784,), activation='relu'))\n",
        "model.add(Dense(10, activation='softmax'))\n",
        "model.summary()\n",
        "model.compile(loss='sparse_categorical_crossentropy', optimizer='adam', metrics=['accuracy'])"
      ],
      "execution_count": 31,
      "outputs": [
        {
          "output_type": "stream",
          "text": [
            "Model: \"sequential_4\"\n",
            "_________________________________________________________________\n",
            "Layer (type)                 Output Shape              Param #   \n",
            "=================================================================\n",
            "dense_9 (Dense)              (None, 100)               78500     \n",
            "_________________________________________________________________\n",
            "dense_10 (Dense)             (None, 10)                1010      \n",
            "=================================================================\n",
            "Total params: 79,510\n",
            "Trainable params: 79,510\n",
            "Non-trainable params: 0\n",
            "_________________________________________________________________\n"
          ],
          "name": "stdout"
        }
      ]
    },
    {
      "cell_type": "code",
      "metadata": {
        "id": "sSLh04xZWmPW",
        "outputId": "8799e388-8be9-4dc2-ebb5-632762368d0c",
        "colab": {
          "base_uri": "https://localhost:8080/"
        }
      },
      "source": [
        "hist=model.fit(x_train, y_train,epochs=5) #accuracy : 0.8399"
      ],
      "execution_count": 26,
      "outputs": [
        {
          "output_type": "stream",
          "text": [
            "Epoch 1/5\n",
            "1875/1875 [==============================] - 3s 2ms/step - loss: 0.4649 - accuracy: 0.8438\n",
            "Epoch 2/5\n",
            "1875/1875 [==============================] - 3s 2ms/step - loss: 0.4543 - accuracy: 0.8450\n",
            "Epoch 3/5\n",
            "1875/1875 [==============================] - 3s 2ms/step - loss: 0.4572 - accuracy: 0.8458\n",
            "Epoch 4/5\n",
            "1875/1875 [==============================] - 3s 1ms/step - loss: 0.4528 - accuracy: 0.8471\n",
            "Epoch 5/5\n",
            "1875/1875 [==============================] - 3s 1ms/step - loss: 0.4532 - accuracy: 0.8461\n"
          ],
          "name": "stdout"
        }
      ]
    },
    {
      "cell_type": "code",
      "metadata": {
        "id": "0Ea7HtUpX9k2",
        "outputId": "0741cd57-d59f-42c6-f147-625c5ec6b755",
        "colab": {
          "base_uri": "https://localhost:8080/",
          "height": 336
        }
      },
      "source": [
        "import matplotlib.pylab as plt\n",
        "plt.figure(figsize=(5,5))\n",
        "x=range(0,5)\n",
        "y1= hist.history['loss']\n",
        "y2= hist.history['accuracy']\n",
        "\n",
        "plt.subplot(1,2,1)\n",
        "plt.plot(x,y1,'b')\n",
        "plt.title('loss')\n",
        "\n",
        "plt.subplot(1,2,2)\n",
        "plt.plot(x,y2,'r')\n",
        "plt.title('accuracy')\n",
        "\n",
        "\n",
        "\n",
        "plt.show()"
      ],
      "execution_count": 27,
      "outputs": [
        {
          "output_type": "display_data",
          "data": {
            "image/png": "[encoded data removed]",
            "text/plain": [
              "<Figure size 360x360 with 2 Axes>"
            ]
          },
          "metadata": {
            "tags": [],
            "needs_background": "light"
          }
        }
      ]
    },
    {
      "cell_type": "code",
      "metadata": {
        "id": "lYD2zVutY8sM",
        "outputId": "314cca30-11d4-4c1f-b6ff-098e7c3989c8",
        "colab": {
          "base_uri": "https://localhost:8080/"
        }
      },
      "source": [
        "#데이터를 reshape해서 sequential로 바꾸지 않았기 때문에 오류가 나타납니다.\n",
        "\n",
        "model = Sequential()\n",
        "model.add(Dense(200, input_shape=(784,), activation='relu'))\n",
        "model.add(Dense(100, activation='relu'))\n",
        "model.add(Dense(10, activation='softmax'))\n",
        "model.summary()\n"
      ],
      "execution_count": 28,
      "outputs": [
        {
          "output_type": "stream",
          "text": [
            "Model: \"sequential_2\"\n",
            "_________________________________________________________________\n",
            "Layer (type)                 Output Shape              Param #   \n",
            "=================================================================\n",
            "dense_4 (Dense)              (None, 200)               157000    \n",
            "_________________________________________________________________\n",
            "dense_5 (Dense)              (None, 100)               20100     \n",
            "_________________________________________________________________\n",
            "dense_6 (Dense)              (None, 10)                1010      \n",
            "=================================================================\n",
            "Total params: 178,110\n",
            "Trainable params: 178,110\n",
            "Non-trainable params: 0\n",
            "_________________________________________________________________\n"
          ],
          "name": "stdout"
        }
      ]
    },
    {
      "cell_type": "code",
      "metadata": {
        "id": "UODlTPmja29G",
        "outputId": "26a418f9-ade5-4018-c408-b50418839d64",
        "colab": {
          "base_uri": "https://localhost:8080/"
        }
      },
      "source": [
        "hist=model.fit(x_train, y_train,epochs=100)"
      ],
      "execution_count": 32,
      "outputs": [
        {
          "output_type": "stream",
          "text": [
            "Epoch 1/100\n",
            "1875/1875 [==============================] - 3s 2ms/step - loss: 3.1523 - accuracy: 0.6737\n",
            "Epoch 2/100\n",
            "1875/1875 [==============================] - 3s 2ms/step - loss: 0.7211 - accuracy: 0.7447\n",
            "Epoch 3/100\n",
            "1875/1875 [==============================] - 3s 2ms/step - loss: 0.6065 - accuracy: 0.7875\n",
            "Epoch 4/100\n",
            "1875/1875 [==============================] - 3s 2ms/step - loss: 0.5421 - accuracy: 0.8112\n",
            "Epoch 5/100\n",
            "1875/1875 [==============================] - 3s 2ms/step - loss: 0.5257 - accuracy: 0.8198\n",
            "Epoch 6/100\n",
            "1875/1875 [==============================] - 3s 2ms/step - loss: 0.5058 - accuracy: 0.8268\n",
            "Epoch 7/100\n",
            "1875/1875 [==============================] - 3s 2ms/step - loss: 0.4923 - accuracy: 0.8319\n",
            "Epoch 8/100\n",
            "1875/1875 [==============================] - 3s 2ms/step - loss: 0.4888 - accuracy: 0.8364\n",
            "Epoch 9/100\n",
            "1875/1875 [==============================] - 3s 2ms/step - loss: 0.4821 - accuracy: 0.8382\n",
            "Epoch 10/100\n",
            "1875/1875 [==============================] - 3s 2ms/step - loss: 0.4798 - accuracy: 0.8388\n",
            "Epoch 11/100\n",
            "1875/1875 [==============================] - 3s 2ms/step - loss: 0.4668 - accuracy: 0.8429\n",
            "Epoch 12/100\n",
            "1875/1875 [==============================] - 3s 2ms/step - loss: 0.4624 - accuracy: 0.8454\n",
            "Epoch 13/100\n",
            "1875/1875 [==============================] - 3s 2ms/step - loss: 0.4562 - accuracy: 0.8469\n",
            "Epoch 14/100\n",
            "1875/1875 [==============================] - 3s 2ms/step - loss: 0.4557 - accuracy: 0.8464\n",
            "Epoch 15/100\n",
            "1875/1875 [==============================] - 3s 2ms/step - loss: 0.4539 - accuracy: 0.8471\n",
            "Epoch 16/100\n",
            "1875/1875 [==============================] - 3s 2ms/step - loss: 0.4550 - accuracy: 0.8461\n",
            "Epoch 17/100\n",
            "1875/1875 [==============================] - 3s 2ms/step - loss: 0.4513 - accuracy: 0.8498\n",
            "Epoch 18/100\n",
            "1875/1875 [==============================] - 3s 2ms/step - loss: 0.4495 - accuracy: 0.8507\n",
            "Epoch 19/100\n",
            "1875/1875 [==============================] - 3s 2ms/step - loss: 0.4482 - accuracy: 0.8501\n",
            "Epoch 20/100\n",
            "1875/1875 [==============================] - 3s 2ms/step - loss: 0.4495 - accuracy: 0.8501\n",
            "Epoch 21/100\n",
            "1875/1875 [==============================] - 3s 2ms/step - loss: 0.4438 - accuracy: 0.8514\n",
            "Epoch 22/100\n",
            "1875/1875 [==============================] - 3s 2ms/step - loss: 0.4448 - accuracy: 0.8504\n",
            "Epoch 23/100\n",
            "1875/1875 [==============================] - 3s 2ms/step - loss: 0.4487 - accuracy: 0.8512\n",
            "Epoch 24/100\n",
            "1875/1875 [==============================] - 3s 2ms/step - loss: 0.4356 - accuracy: 0.8537\n",
            "Epoch 25/100\n",
            "1875/1875 [==============================] - 3s 2ms/step - loss: 0.4491 - accuracy: 0.8515\n",
            "Epoch 26/100\n",
            "1875/1875 [==============================] - 3s 2ms/step - loss: 0.4405 - accuracy: 0.8525\n",
            "Epoch 27/100\n",
            "1875/1875 [==============================] - 3s 2ms/step - loss: 0.4342 - accuracy: 0.8543\n",
            "Epoch 28/100\n",
            "1875/1875 [==============================] - 3s 2ms/step - loss: 0.4490 - accuracy: 0.8512\n",
            "Epoch 29/100\n",
            "1875/1875 [==============================] - 3s 2ms/step - loss: 0.4300 - accuracy: 0.8565\n",
            "Epoch 30/100\n",
            "1875/1875 [==============================] - 3s 2ms/step - loss: 0.4344 - accuracy: 0.8556\n",
            "Epoch 31/100\n",
            "1875/1875 [==============================] - 3s 2ms/step - loss: 0.4327 - accuracy: 0.8556\n",
            "Epoch 32/100\n",
            "1875/1875 [==============================] - 3s 2ms/step - loss: 0.4387 - accuracy: 0.8532\n",
            "Epoch 33/100\n",
            "1875/1875 [==============================] - 3s 2ms/step - loss: 0.4306 - accuracy: 0.8546\n",
            "Epoch 34/100\n",
            "1875/1875 [==============================] - 3s 2ms/step - loss: 0.4378 - accuracy: 0.8533\n",
            "Epoch 35/100\n",
            "1875/1875 [==============================] - 3s 2ms/step - loss: 0.4342 - accuracy: 0.8548\n",
            "Epoch 36/100\n",
            "1875/1875 [==============================] - 3s 2ms/step - loss: 0.4347 - accuracy: 0.8539\n",
            "Epoch 37/100\n",
            "1875/1875 [==============================] - 3s 2ms/step - loss: 0.4455 - accuracy: 0.8465\n",
            "Epoch 38/100\n",
            "1875/1875 [==============================] - 3s 2ms/step - loss: 0.4353 - accuracy: 0.8533\n",
            "Epoch 39/100\n",
            "1875/1875 [==============================] - 3s 2ms/step - loss: 0.4338 - accuracy: 0.8550\n",
            "Epoch 40/100\n",
            "1875/1875 [==============================] - 3s 2ms/step - loss: 0.4334 - accuracy: 0.8538\n",
            "Epoch 41/100\n",
            "1875/1875 [==============================] - 3s 2ms/step - loss: 0.4337 - accuracy: 0.8539\n",
            "Epoch 42/100\n",
            "1875/1875 [==============================] - 3s 1ms/step - loss: 0.4281 - accuracy: 0.8552\n",
            "Epoch 43/100\n",
            "1875/1875 [==============================] - 3s 2ms/step - loss: 0.4305 - accuracy: 0.8551\n",
            "Epoch 44/100\n",
            "1875/1875 [==============================] - 3s 2ms/step - loss: 0.4265 - accuracy: 0.8570\n",
            "Epoch 45/100\n",
            "1875/1875 [==============================] - 3s 2ms/step - loss: 0.4336 - accuracy: 0.8551\n",
            "Epoch 46/100\n",
            "1875/1875 [==============================] - 3s 2ms/step - loss: 0.4304 - accuracy: 0.8578\n",
            "Epoch 47/100\n",
            "1875/1875 [==============================] - 3s 2ms/step - loss: 0.4330 - accuracy: 0.8565\n",
            "Epoch 48/100\n",
            "1875/1875 [==============================] - 3s 2ms/step - loss: 0.4259 - accuracy: 0.8569\n",
            "Epoch 49/100\n",
            "1875/1875 [==============================] - 3s 2ms/step - loss: 0.4222 - accuracy: 0.8581\n",
            "Epoch 50/100\n",
            "1875/1875 [==============================] - 3s 2ms/step - loss: 0.4281 - accuracy: 0.8583\n",
            "Epoch 51/100\n",
            "1875/1875 [==============================] - 3s 2ms/step - loss: 0.4202 - accuracy: 0.8586\n",
            "Epoch 52/100\n",
            "1875/1875 [==============================] - 3s 2ms/step - loss: 0.4315 - accuracy: 0.8562\n",
            "Epoch 53/100\n",
            "1875/1875 [==============================] - 3s 2ms/step - loss: 0.4254 - accuracy: 0.8578\n",
            "Epoch 54/100\n",
            "1875/1875 [==============================] - 3s 2ms/step - loss: 0.4234 - accuracy: 0.8583\n",
            "Epoch 55/100\n",
            "1875/1875 [==============================] - 3s 2ms/step - loss: 0.4268 - accuracy: 0.8582\n",
            "Epoch 56/100\n",
            "1875/1875 [==============================] - 3s 2ms/step - loss: 0.4322 - accuracy: 0.8565\n",
            "Epoch 57/100\n",
            "1875/1875 [==============================] - 3s 2ms/step - loss: 0.4376 - accuracy: 0.8561\n",
            "Epoch 58/100\n",
            "1875/1875 [==============================] - 3s 2ms/step - loss: 0.4165 - accuracy: 0.8588\n",
            "Epoch 59/100\n",
            "1875/1875 [==============================] - 3s 2ms/step - loss: 0.4303 - accuracy: 0.8570\n",
            "Epoch 60/100\n",
            "1875/1875 [==============================] - 3s 2ms/step - loss: 0.4222 - accuracy: 0.8583\n",
            "Epoch 61/100\n",
            "1875/1875 [==============================] - 3s 2ms/step - loss: 0.4236 - accuracy: 0.8584\n",
            "Epoch 62/100\n",
            "1875/1875 [==============================] - 3s 2ms/step - loss: 0.4261 - accuracy: 0.8564\n",
            "Epoch 63/100\n",
            "1875/1875 [==============================] - 3s 2ms/step - loss: 0.4303 - accuracy: 0.8579\n",
            "Epoch 64/100\n",
            "1875/1875 [==============================] - 3s 2ms/step - loss: 0.4364 - accuracy: 0.8557\n",
            "Epoch 65/100\n",
            "1875/1875 [==============================] - 3s 2ms/step - loss: 0.4175 - accuracy: 0.8603\n",
            "Epoch 66/100\n",
            "1875/1875 [==============================] - 3s 2ms/step - loss: 0.4106 - accuracy: 0.8623\n",
            "Epoch 67/100\n",
            "1875/1875 [==============================] - 3s 2ms/step - loss: 0.4371 - accuracy: 0.8545\n",
            "Epoch 68/100\n",
            "1875/1875 [==============================] - 3s 2ms/step - loss: 0.4186 - accuracy: 0.8585\n",
            "Epoch 69/100\n",
            "1875/1875 [==============================] - 3s 2ms/step - loss: 0.4209 - accuracy: 0.8591\n",
            "Epoch 70/100\n",
            "1875/1875 [==============================] - 3s 2ms/step - loss: 0.4364 - accuracy: 0.8576\n",
            "Epoch 71/100\n",
            "1875/1875 [==============================] - 3s 2ms/step - loss: 0.4082 - accuracy: 0.8607\n",
            "Epoch 72/100\n",
            "1875/1875 [==============================] - 3s 2ms/step - loss: 0.4207 - accuracy: 0.8598\n",
            "Epoch 73/100\n",
            "1875/1875 [==============================] - 3s 2ms/step - loss: 0.4209 - accuracy: 0.8580\n",
            "Epoch 74/100\n",
            "1875/1875 [==============================] - 3s 2ms/step - loss: 0.4295 - accuracy: 0.8586\n",
            "Epoch 75/100\n",
            "1875/1875 [==============================] - 3s 2ms/step - loss: 0.4167 - accuracy: 0.8603\n",
            "Epoch 76/100\n",
            "1875/1875 [==============================] - 3s 2ms/step - loss: 0.4355 - accuracy: 0.8580\n",
            "Epoch 77/100\n",
            "1875/1875 [==============================] - 3s 2ms/step - loss: 0.4099 - accuracy: 0.8598\n",
            "Epoch 78/100\n",
            "1875/1875 [==============================] - 3s 2ms/step - loss: 0.4379 - accuracy: 0.8565\n",
            "Epoch 79/100\n",
            "1875/1875 [==============================] - 3s 2ms/step - loss: 0.4167 - accuracy: 0.8589\n",
            "Epoch 80/100\n",
            "1875/1875 [==============================] - 3s 2ms/step - loss: 0.4227 - accuracy: 0.8569\n",
            "Epoch 81/100\n",
            "1875/1875 [==============================] - 3s 2ms/step - loss: 0.4152 - accuracy: 0.8616\n",
            "Epoch 82/100\n",
            "1875/1875 [==============================] - 3s 2ms/step - loss: 0.4226 - accuracy: 0.8593\n",
            "Epoch 83/100\n",
            "1875/1875 [==============================] - 3s 2ms/step - loss: 0.4108 - accuracy: 0.8595\n",
            "Epoch 84/100\n",
            "1875/1875 [==============================] - 3s 2ms/step - loss: 0.4235 - accuracy: 0.8583\n",
            "Epoch 85/100\n",
            "1875/1875 [==============================] - 3s 2ms/step - loss: 0.4263 - accuracy: 0.8583\n",
            "Epoch 86/100\n",
            "1875/1875 [==============================] - 3s 2ms/step - loss: 0.4300 - accuracy: 0.8588\n",
            "Epoch 87/100\n",
            "1875/1875 [==============================] - 3s 2ms/step - loss: 0.4057 - accuracy: 0.8631\n",
            "Epoch 88/100\n",
            "1875/1875 [==============================] - 3s 2ms/step - loss: 0.4192 - accuracy: 0.8597\n",
            "Epoch 89/100\n",
            "1875/1875 [==============================] - 3s 2ms/step - loss: 0.4206 - accuracy: 0.8584\n",
            "Epoch 90/100\n",
            "1875/1875 [==============================] - 3s 2ms/step - loss: 0.4213 - accuracy: 0.8599\n",
            "Epoch 91/100\n",
            "1875/1875 [==============================] - 3s 2ms/step - loss: 0.4210 - accuracy: 0.8601\n",
            "Epoch 92/100\n",
            "1875/1875 [==============================] - 3s 2ms/step - loss: 0.4136 - accuracy: 0.8605\n",
            "Epoch 93/100\n",
            "1875/1875 [==============================] - 3s 2ms/step - loss: 0.4292 - accuracy: 0.8592\n",
            "Epoch 94/100\n",
            "1875/1875 [==============================] - 3s 2ms/step - loss: 0.4216 - accuracy: 0.8598\n",
            "Epoch 95/100\n",
            "1875/1875 [==============================] - 3s 2ms/step - loss: 0.4054 - accuracy: 0.8624\n",
            "Epoch 96/100\n",
            "1875/1875 [==============================] - 3s 2ms/step - loss: 0.4289 - accuracy: 0.8597\n",
            "Epoch 97/100\n",
            "1875/1875 [==============================] - 3s 2ms/step - loss: 0.4370 - accuracy: 0.8579\n",
            "Epoch 98/100\n",
            "1875/1875 [==============================] - 3s 2ms/step - loss: 0.4158 - accuracy: 0.8597\n",
            "Epoch 99/100\n",
            "1875/1875 [==============================] - 3s 2ms/step - loss: 0.4239 - accuracy: 0.8613\n",
            "Epoch 100/100\n",
            "1875/1875 [==============================] - 3s 2ms/step - loss: 0.4096 - accuracy: 0.8626\n"
          ],
          "name": "stdout"
        }
      ]
    },
    {
      "cell_type": "code",
      "metadata": {
        "id": "WzP1giKvbmlR",
        "outputId": "9efd2510-d770-4e8c-ca5c-de1c59b01c89",
        "colab": {
          "base_uri": "https://localhost:8080/"
        }
      },
      "source": [
        "test_loss, test_acc = model.evaluate(x_test, y_test)\n",
        "print('test loss : ', test_loss, 'test accuracy : ', test_acc)"
      ],
      "execution_count": 33,
      "outputs": [
        {
          "output_type": "stream",
          "text": [
            "313/313 [==============================] - 0s 993us/step - loss: 0.8323 - accuracy: 0.8351\n",
            "test loss :  0.832345187664032 test accuracy :  0.835099995136261\n"
          ],
          "name": "stdout"
        }
      ]
    },
    {
      "cell_type": "code",
      "metadata": {
        "id": "lBaBx3GYdHMt",
        "outputId": "4f6ec9ec-adc8-41bb-e4f3-ac583dfad145",
        "colab": {
          "base_uri": "https://localhost:8080/",
          "height": 336
        }
      },
      "source": [
        "import matplotlib.pylab as plt\n",
        "plt.figure(figsize=(5,5))\n",
        "x=range(0,100)\n",
        "y1= hist.history['loss']\n",
        "y2= hist.history['accuracy']\n",
        "\n",
        "plt.subplot(1,2,1)\n",
        "plt.plot(x,y1,'b')\n",
        "plt.title('loss')\n",
        "\n",
        "plt.subplot(1,2,2)\n",
        "plt.plot(x,y2,'r')\n",
        "plt.title('accuracy')\n",
        "\n",
        "\n",
        "\n",
        "plt.show()"
      ],
      "execution_count": 34,
      "outputs": [
        {
          "output_type": "display_data",
          "data": {
            "image/png": "[encoded data removed]",
            "text/plain": [
              "<Figure size 360x360 with 2 Axes>"
            ]
          },
          "metadata": {
            "tags": [],
            "needs_background": "light"
          }
        }
      ]
    },
    {
      "cell_type": "code",
      "metadata": {
        "id": "CKzFZklRdRYB"
      },
      "source": [
        ""
      ],
      "execution_count": null,
      "outputs": []
    }
  ]
}